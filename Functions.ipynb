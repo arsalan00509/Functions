{
  "nbformat": 4,
  "nbformat_minor": 0,
  "metadata": {
    "colab": {
      "provenance": []
    },
    "kernelspec": {
      "name": "python3",
      "display_name": "Python 3"
    },
    "language_info": {
      "name": "python"
    }
  },
  "cells": [
    {
      "cell_type": "markdown",
      "source": [
        "# FUNCTIONS"
      ],
      "metadata": {
        "id": "IQ3tISQgvh7n"
      }
    },
    {
      "cell_type": "markdown",
      "source": [
        "# Theory Questions"
      ],
      "metadata": {
        "id": "DpDXdzkZvtH8"
      }
    },
    {
      "cell_type": "markdown",
      "source": [
        "1.\tDifference between a function and a method in Python.\n",
        "- A function is a block of code that performs a specific task and is defined using the def keyword. A method is similar to a function but is associated with an object and operates on that object’s data.\n",
        "\n",
        "2.\tFunction arguments and parameters in Python.\n",
        "- Parameters are variables listed in a function’s definition, while arguments are values passed to a function when it is called.\n",
        "\n",
        "3.\tDifferent ways to define and call a function in Python:\n",
        "- A function can be defined using the def keyword or as an anonymous function using lambda. It can be called using positional arguments, keyword arguments, default parameters, or variable-length arguments (*args, **kwargs).\n",
        "\n",
        "4.\tPurpose of the return statement in a Python function:\n",
        "- The return statement allows a function to send back a value to the caller and terminate its execution.\n",
        "\n",
        "5.\tIterators and how they differ from iterables:\n",
        "- An iterable is an object that can be looped over, while an iterator is an object that produces values from an iterable one at a time using the __next__() method.\n",
        "\n",
        "6.\tConcept of generators in Python and how they are defined:\n",
        "- A generator is a special type of iterator that yields values lazily using the yield keyword instead of returning them all at once.\n",
        "\n",
        "7.\tAdvantages of using generators over regular functions:\n",
        "- Generators use less memory, improve performance by yielding values one at a time, and allow handling large datasets efficiently.\n",
        "\n",
        "8.\tLambda function in Python and when it is used:\n",
        "A lambda function is an anonymous, inline function defined using the lambda keyword. It is useful for short, single-expression functions.\n",
        "\n",
        "9.\tPurpose and usage of the map() function in Python:\n",
        "- The map() function applies a given function to each item of an iterable and returns a map object.\n",
        "\n",
        "10.\tDifference between map(), reduce(), and filter() functions in Python:\n",
        "\n",
        "-•\tmap() applies a function to each item in an iterable and returns the transformed data.\n",
        "•\treduce() applies a function cumulatively to the items in an iterable to reduce them to a single value.\n",
        "•\tfilter() selects elements from an iterable based on a condition and returns only those that satisfy the condition.\n",
        "- Parameters are variables listed in a function’s definition, while arguments are values passed to a function when it is called.\n",
        "\n",
        "3.\tDifferent ways to define and call a function in Python:\n",
        "- A function can be defined using the def keyword or as an anonymous function using lambda. It can be called using positional arguments, keyword arguments, default parameters, or variable-length arguments (*args, **kwargs).\n",
        "\n",
        "4.\tPurpose of the return statement in a Python function:\n",
        "- The return statement allows a function to send back a value to the caller and terminate its execution.\n",
        "\n",
        "5.\tIterators and how they differ from iterables:\n",
        "- An iterable is an object that can be looped over, while an iterator is an object that produces values from an iterable one at a time using the _next_() method.\n",
        "\n",
        "6.\tConcept of generators in Python and how they are defined:\n",
        "- A generator is a special type of iterator that yields values lazily using the yield keyword instead of returning them all at once.\n",
        "\n",
        "7.\tAdvantages of using generators over regular functions:\n",
        "- Generators use less memory, improve performance by yielding values one at a time, and allow handling large datasets efficiently.\n",
        "\n",
        "8.\tLambda function in Python and when it is used:\n",
        "A lambda function is an anonymous, inline function defined using the lambda keyword. It is useful for short, single-expression functions.\n",
        "\n",
        "9.\tPurpose and usage of the map() function in Python:\n",
        "- The map() function applies a given function to each item of an iterable and returns a map object.\n",
        "\n",
        "10.\tDifference between map(), reduce(), and filter() functions in Python:\n",
        "\n",
        "-•\tmap() applies a function to each item in an iterable and returns the transformed data.\n",
        "•\treduce() applies a function cumulatively to the items in an iterable to reduce them to a single value.\n",
        "•\tfilter() selects elements from an iterable based on a condition and returns only those that satisfy the condition.\n",
        "\n",
        "11. Using pen & Paper write the internal mechanism for sum operation using  reduce function on this given\n",
        "list:[47,11,42,13];\n",
        "-  "
      ],
      "metadata": {
        "id": "QrVxvtGQy2Ny"
      }
    },
    {
      "cell_type": "markdown",
      "source": [
        "# Practical Questions"
      ],
      "metadata": {
        "id": "bqjrw0BtzACx"
      }
    },
    {
      "cell_type": "code",
      "source": [
        "# 1. Write a Python function that takes a list of numbers as input and returns the sum of all even numbers in the list.\n",
        "def sum_even_numbers(lst):\n",
        "    return sum(num for num in lst if num % 2 == 0)\n",
        "\n",
        "# Example usage:\n",
        "numbers = [1, 2, 3, 4, 5, 6]\n",
        "print(sum_even_numbers(numbers))"
      ],
      "metadata": {
        "colab": {
          "base_uri": "https://localhost:8080/"
        },
        "id": "iKur00qxyVY0",
        "outputId": "37e4a3ed-6c31-4d25-f55b-b9da67e560af"
      },
      "execution_count": 21,
      "outputs": [
        {
          "output_type": "stream",
          "name": "stdout",
          "text": [
            "12\n"
          ]
        }
      ]
    },
    {
      "cell_type": "code",
      "source": [
        "# 2. Create a Python function that accepts a string and returns the reverse of that string.\n",
        "def reverse_string(s):\n",
        "    return s[::-1]\n",
        "\n",
        "# Example usage:\n",
        "text = \"hello\"\n",
        "print(reverse_string(text))"
      ],
      "metadata": {
        "colab": {
          "base_uri": "https://localhost:8080/"
        },
        "id": "Ni5ELSuGzixi",
        "outputId": "d5bcff3e-62f6-4420-d893-c46e5b1bf8f3"
      },
      "execution_count": 22,
      "outputs": [
        {
          "output_type": "stream",
          "name": "stdout",
          "text": [
            "olleh\n"
          ]
        }
      ]
    },
    {
      "cell_type": "code",
      "source": [
        "# 3. Implement a Python function that takes a list of integers and returns a new list containing the squares of each number.\n",
        "def square_numbers(lst):\n",
        "    return [num ** 2 for num in lst]\n",
        "\n",
        "# Example usage:\n",
        "numbers = [1, 2, 3, 4]\n",
        "print(square_numbers(numbers))"
      ],
      "metadata": {
        "colab": {
          "base_uri": "https://localhost:8080/"
        },
        "id": "qevIb_IAzmCh",
        "outputId": "c10cac75-c124-42dc-94a0-5aa567789cab"
      },
      "execution_count": 23,
      "outputs": [
        {
          "output_type": "stream",
          "name": "stdout",
          "text": [
            "[1, 4, 9, 16]\n"
          ]
        }
      ]
    },
    {
      "cell_type": "code",
      "source": [
        "# 4. Write a Python function that checks if a given number is prime or not from 1 to 200.\n",
        "def is_prime(n):\n",
        "    if n < 2:\n",
        "        return False\n",
        "    for i in range(2, int(n ** 0.5) + 1):\n",
        "        if n % i == 0:\n",
        "            return False\n",
        "    return True\n",
        "primes = [num for num in range(1, 201) if is_prime(num)]\n",
        "print(primes)\n"
      ],
      "metadata": {
        "colab": {
          "base_uri": "https://localhost:8080/"
        },
        "id": "sOfAuy6IzmnI",
        "outputId": "e6e2d13a-8378-4f48-89d5-e487c56196ca"
      },
      "execution_count": 26,
      "outputs": [
        {
          "output_type": "stream",
          "name": "stdout",
          "text": [
            "[2, 3, 5, 7, 11, 13, 17, 19, 23, 29, 31, 37, 41, 43, 47, 53, 59, 61, 67, 71, 73, 79, 83, 89, 97, 101, 103, 107, 109, 113, 127, 131, 137, 139, 149, 151, 157, 163, 167, 173, 179, 181, 191, 193, 197, 199]\n"
          ]
        }
      ]
    },
    {
      "cell_type": "code",
      "source": [
        "# 5. Create an iterator class in Python that generates the Fibonacci sequence up to a specified number of terms.\n",
        "class FibonacciIterator:\n",
        "    def __init__(self, terms): # Changed _init_ to __init__\n",
        "        self.terms = terms\n",
        "        self.a, self.b = 0, 1\n",
        "        self.count = 0\n",
        "\n",
        "    def __iter__(self): # Changed _iter_ to __iter__\n",
        "        return self\n",
        "\n",
        "    def __next__(self): # Changed _next_ to __next__\n",
        "        if self.count >= self.terms:\n",
        "            raise StopIteration\n",
        "        self.count += 1\n",
        "        self.a, self.b = self.b, self.a + self.b\n",
        "        return self.a\n",
        "\n",
        "fib = FibonacciIterator(10)\n",
        "print(list(fib))"
      ],
      "metadata": {
        "colab": {
          "base_uri": "https://localhost:8080/"
        },
        "id": "SWaacWNSznIx",
        "outputId": "8ac7e144-9857-4f14-c289-03ab7ad385fb"
      },
      "execution_count": 31,
      "outputs": [
        {
          "output_type": "stream",
          "name": "stdout",
          "text": [
            "[1, 1, 2, 3, 5, 8, 13, 21, 34, 55]\n"
          ]
        }
      ]
    },
    {
      "cell_type": "code",
      "source": [
        "# 6. Write a generator function in Python that yields the powers of 2 up to a given exponent.\n",
        "def power_of_two(n):\n",
        "    for i in range(n + 1):\n",
        "        yield 2 ** i\n",
        "print(list(power_of_two(5)))  # Output: [1, 2, 4, 8, 16, 32]"
      ],
      "metadata": {
        "colab": {
          "base_uri": "https://localhost:8080/"
        },
        "id": "UVkH_g38zoEh",
        "outputId": "20cf6495-364d-400b-ba2b-6d6e432c7539"
      },
      "execution_count": 32,
      "outputs": [
        {
          "output_type": "stream",
          "name": "stdout",
          "text": [
            "[1, 2, 4, 8, 16, 32]\n"
          ]
        }
      ]
    },
    {
      "cell_type": "code",
      "source": [
        "# 7. Implement a generator function that reads a file line by line and yields each line as a string.\n",
        "def read_file_line_by_line(file_path):\n",
        "    \"\"\"\n",
        "    A generator function that reads a file line by line and yields each line as a string.\n",
        "\n",
        "    Args:\n",
        "        file_path (str): The path to the file.\n",
        "\n",
        "    Yields:\n",
        "        str: Each line of the file as a string.\n",
        "    \"\"\"\n",
        "    with open(file_path, 'r') as file:\n",
        "        for line in file:\n",
        "            yield line.strip()\n",
        "\n",
        "file_path = 'r'\n",
        "for line in read_file_line_by_line(file_path):\n",
        "    print(line)"
      ],
      "metadata": {
        "colab": {
          "base_uri": "https://localhost:8080/",
          "height": 315
        },
        "id": "-gXJXa_Kzoj5",
        "outputId": "96c6cd84-4e54-4f18-caf9-e183e20e6eb7"
      },
      "execution_count": 81,
      "outputs": [
        {
          "output_type": "error",
          "ename": "FileNotFoundError",
          "evalue": "[Errno 2] No such file or directory: 'r'",
          "traceback": [
            "\u001b[0;31m---------------------------------------------------------------------------\u001b[0m",
            "\u001b[0;31mFileNotFoundError\u001b[0m                         Traceback (most recent call last)",
            "\u001b[0;32m<ipython-input-81-60d3bd51400b>\u001b[0m in \u001b[0;36m<cell line: 0>\u001b[0;34m()\u001b[0m\n\u001b[1;32m     15\u001b[0m \u001b[0;34m\u001b[0m\u001b[0m\n\u001b[1;32m     16\u001b[0m \u001b[0mfile_path\u001b[0m \u001b[0;34m=\u001b[0m \u001b[0;34m'r'\u001b[0m\u001b[0;34m\u001b[0m\u001b[0;34m\u001b[0m\u001b[0m\n\u001b[0;32m---> 17\u001b[0;31m \u001b[0;32mfor\u001b[0m \u001b[0mline\u001b[0m \u001b[0;32min\u001b[0m \u001b[0mread_file_line_by_line\u001b[0m\u001b[0;34m(\u001b[0m\u001b[0mfile_path\u001b[0m\u001b[0;34m)\u001b[0m\u001b[0;34m:\u001b[0m\u001b[0;34m\u001b[0m\u001b[0;34m\u001b[0m\u001b[0m\n\u001b[0m\u001b[1;32m     18\u001b[0m     \u001b[0mprint\u001b[0m\u001b[0;34m(\u001b[0m\u001b[0mline\u001b[0m\u001b[0;34m)\u001b[0m\u001b[0;34m\u001b[0m\u001b[0;34m\u001b[0m\u001b[0m\n",
            "\u001b[0;32m<ipython-input-81-60d3bd51400b>\u001b[0m in \u001b[0;36mread_file_line_by_line\u001b[0;34m(file_path)\u001b[0m\n\u001b[1;32m     10\u001b[0m         \u001b[0mstr\u001b[0m\u001b[0;34m:\u001b[0m \u001b[0mEach\u001b[0m \u001b[0mline\u001b[0m \u001b[0mof\u001b[0m \u001b[0mthe\u001b[0m \u001b[0mfile\u001b[0m \u001b[0;32mas\u001b[0m \u001b[0ma\u001b[0m \u001b[0mstring\u001b[0m\u001b[0;34m.\u001b[0m\u001b[0;34m\u001b[0m\u001b[0;34m\u001b[0m\u001b[0m\n\u001b[1;32m     11\u001b[0m     \"\"\"\n\u001b[0;32m---> 12\u001b[0;31m     \u001b[0;32mwith\u001b[0m \u001b[0mopen\u001b[0m\u001b[0;34m(\u001b[0m\u001b[0mfile_path\u001b[0m\u001b[0;34m,\u001b[0m \u001b[0;34m'r'\u001b[0m\u001b[0;34m)\u001b[0m \u001b[0;32mas\u001b[0m \u001b[0mfile\u001b[0m\u001b[0;34m:\u001b[0m\u001b[0;34m\u001b[0m\u001b[0;34m\u001b[0m\u001b[0m\n\u001b[0m\u001b[1;32m     13\u001b[0m         \u001b[0;32mfor\u001b[0m \u001b[0mline\u001b[0m \u001b[0;32min\u001b[0m \u001b[0mfile\u001b[0m\u001b[0;34m:\u001b[0m\u001b[0;34m\u001b[0m\u001b[0;34m\u001b[0m\u001b[0m\n\u001b[1;32m     14\u001b[0m             \u001b[0;32myield\u001b[0m \u001b[0mline\u001b[0m\u001b[0;34m.\u001b[0m\u001b[0mstrip\u001b[0m\u001b[0;34m(\u001b[0m\u001b[0;34m)\u001b[0m\u001b[0;34m\u001b[0m\u001b[0;34m\u001b[0m\u001b[0m\n",
            "\u001b[0;31mFileNotFoundError\u001b[0m: [Errno 2] No such file or directory: 'r'"
          ]
        }
      ]
    },
    {
      "cell_type": "code",
      "source": [
        "# 8. Use a lambda function in Python to sort a list of tuples based on the second element of each tuple.\n",
        "tuples_list = [(1, 3), (2, 2), (3, 1)]\n",
        "sorted_list = sorted(tuples_list, key=lambda x: x[1])\n",
        "print(sorted_list)"
      ],
      "metadata": {
        "colab": {
          "base_uri": "https://localhost:8080/"
        },
        "id": "Ms9ftRXbzqBZ",
        "outputId": "4e05bab7-dceb-4c15-fad1-c190af21acb9"
      },
      "execution_count": 49,
      "outputs": [
        {
          "output_type": "stream",
          "name": "stdout",
          "text": [
            "[(3, 1), (2, 2), (1, 3)]\n"
          ]
        }
      ]
    },
    {
      "cell_type": "code",
      "source": [
        "# 9. Write a Python program that uses `map()` to convert a list of temperatures from Celsius to Fahrenheit.\n",
        "celsius = [0, 10, 20, 30, 40]\n",
        "fahrenheit = list(map(lambda c: (c * 9/5) + 32, celsius))\n",
        "print(fahrenheit)"
      ],
      "metadata": {
        "colab": {
          "base_uri": "https://localhost:8080/"
        },
        "id": "2HGgJS2Izqhp",
        "outputId": "e004a46d-46a8-4f8a-8fe1-22126f855430"
      },
      "execution_count": 50,
      "outputs": [
        {
          "output_type": "stream",
          "name": "stdout",
          "text": [
            "[32.0, 50.0, 68.0, 86.0, 104.0]\n"
          ]
        }
      ]
    },
    {
      "cell_type": "code",
      "source": [
        "# 10. Create a Python program that uses `filter()` to remove all the vowels from a given string.\n",
        "def remove_vowels(s):\n",
        "    return \"\".join(filter(lambda c: c.lower() not in \"aeiou\", s))\n",
        "print(remove_vowels(\"hello world\"))"
      ],
      "metadata": {
        "colab": {
          "base_uri": "https://localhost:8080/"
        },
        "id": "06BTSEr2zq1p",
        "outputId": "065af350-5ae9-45df-8f61-73f15db6637c"
      },
      "execution_count": 55,
      "outputs": [
        {
          "output_type": "stream",
          "name": "stdout",
          "text": [
            "hll wrld\n"
          ]
        }
      ]
    },
    {
      "cell_type": "code",
      "source": [
        "# 11) Imagine an accounting routine used in a book shop. It works on a list with sublists, which look like this:\n",
        "#-Order Number   Book Title and Author             Quantity         Price Per Item\n",
        "#-34587          Learning python,Mark Lutz            4                  40.95\n",
        "#-98762          Programming Python,Mark Lutz         5                  56.80\n",
        "#-77226          Head First Python,Paul Berry         3                  32.95\n",
        "#-88112          Einfuhrung in Python3,Bernd Klein    3                  24.99\n",
        "\n",
        "# Write a Python program, which returns a list with 2-tuples. Each tuple consists of the order number and the product of the price per item and the quantity. The product should be increased by 10,- € if the value of the order is smaller than 100,00 €.\n",
        "# Write a Python program using lambda and map.\n",
        "\n",
        "orders = [[34587, 4, 40.95], [98762, 5, 56.80], [77226, 3, 32.95], [88112, 3, 24.99]]\n",
        "\n",
        "order_totals = list(map(lambda order: (order[0], order[1] * order[2] + (10 if order[1] * order[2] < 100 else 0)), orders))\n",
        "print(order_totals)\n",
        "\n"
      ],
      "metadata": {
        "colab": {
          "base_uri": "https://localhost:8080/"
        },
        "id": "kpC6EhF6zrJZ",
        "outputId": "8b27ee58-a218-41d1-99c3-880067354bc8"
      },
      "execution_count": 56,
      "outputs": [
        {
          "output_type": "stream",
          "name": "stdout",
          "text": [
            "[(34587, 163.8), (98762, 284.0), (77226, 108.85000000000001), (88112, 84.97)]\n"
          ]
        }
      ]
    },
    {
      "cell_type": "code",
      "source": [],
      "metadata": {
        "id": "_lBi2ztczrx4"
      },
      "execution_count": null,
      "outputs": []
    }
  ]
}